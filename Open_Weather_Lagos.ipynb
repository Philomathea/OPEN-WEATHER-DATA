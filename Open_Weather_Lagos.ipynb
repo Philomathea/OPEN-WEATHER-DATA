{
  "nbformat": 4,
  "nbformat_minor": 0,
  "metadata": {
    "colab": {
      "provenance": [],
      "authorship_tag": "ABX9TyM4iVo8tSoXCM3nCBSNnOPq",
      "include_colab_link": true
    },
    "kernelspec": {
      "name": "python3",
      "display_name": "Python 3"
    },
    "language_info": {
      "name": "python"
    }
  },
  "cells": [
    {
      "cell_type": "markdown",
      "metadata": {
        "id": "view-in-github",
        "colab_type": "text"
      },
      "source": [
        "<a href=\"https://colab.research.google.com/github/Philomathea/OPEN-WEATHER-DATA/blob/main/Open_Weather_Lagos.ipynb\" target=\"_parent\"><img src=\"https://colab.research.google.com/assets/colab-badge.svg\" alt=\"Open In Colab\"/></a>"
      ]
    },
    {
      "cell_type": "code",
      "execution_count": null,
      "metadata": {
        "id": "7KRgsK4ojm3I",
        "colab": {
          "base_uri": "https://localhost:8080/"
        },
        "outputId": "bba37495-ca9a-45ed-a18d-f6566f0166d0"
      },
      "outputs": [
        {
          "output_type": "stream",
          "name": "stdout",
          "text": [
            "Requirement already satisfied: requests in /usr/local/lib/python3.10/dist-packages (2.31.0)\n",
            "Requirement already satisfied: charset-normalizer<4,>=2 in /usr/local/lib/python3.10/dist-packages (from requests) (3.3.2)\n",
            "Requirement already satisfied: idna<4,>=2.5 in /usr/local/lib/python3.10/dist-packages (from requests) (3.6)\n",
            "Requirement already satisfied: urllib3<3,>=1.21.1 in /usr/local/lib/python3.10/dist-packages (from requests) (2.0.7)\n",
            "Requirement already satisfied: certifi>=2017.4.17 in /usr/local/lib/python3.10/dist-packages (from requests) (2024.2.2)\n"
          ]
        }
      ],
      "source": [
        "!pip install requests"
      ]
    },
    {
      "cell_type": "code",
      "source": [
        "import pandas as pd\n",
        "import requests\n",
        "import json\n",
        "import datetime as dt"
      ],
      "metadata": {
        "id": "TZaO4xvWksiI"
      },
      "execution_count": 11,
      "outputs": []
    },
    {
      "cell_type": "code",
      "source": [
        "API_KEY = \"56963a7754b075a9539eea8c036e81b3\"\n",
        "lat = 10.3\n",
        "lon = 18.2"
      ],
      "metadata": {
        "id": "hmWKzI_fDe_K"
      },
      "execution_count": 3,
      "outputs": []
    },
    {
      "cell_type": "code",
      "source": [
        "CITY = \"Lagos\""
      ],
      "metadata": {
        "id": "vrd2jxFYYIE5"
      },
      "execution_count": 13,
      "outputs": []
    },
    {
      "cell_type": "code",
      "source": [
        "def kelvin_to_celsius_fahrenheit(kelvin):\n",
        "  celsius = kelvin - 273.15\n",
        "  fahrenheit = celsius * (9/5) + 32\n",
        "  return celsius, fahrenheit"
      ],
      "metadata": {
        "id": "79zFY5DEZIgW"
      },
      "execution_count": 17,
      "outputs": []
    },
    {
      "cell_type": "code",
      "source": [
        "url = 'https://api.openweathermap.org/data/2.5/weather?lat=10.30&lon=18.20&appid=56963a7754b075a9539eea8c036e81b3'"
      ],
      "metadata": {
        "id": "KFmU6-nCvrRh"
      },
      "execution_count": 14,
      "outputs": []
    },
    {
      "cell_type": "code",
      "source": [
        "response = requests.get(url).json()\n",
        "response"
      ],
      "metadata": {
        "colab": {
          "base_uri": "https://localhost:8080/"
        },
        "id": "iH_e--ZGv8qx",
        "outputId": "8df28765-b976-497a-99d3-29044d8f6a4b"
      },
      "execution_count": 15,
      "outputs": [
        {
          "output_type": "execute_result",
          "data": {
            "text/plain": [
              "{'coord': {'lon': 18.2, 'lat': 10.3},\n",
              " 'weather': [{'id': 803,\n",
              "   'main': 'Clouds',\n",
              "   'description': 'broken clouds',\n",
              "   'icon': '04d'}],\n",
              " 'base': 'stations',\n",
              " 'main': {'temp': 312.71,\n",
              "  'feels_like': 313.51,\n",
              "  'temp_min': 312.71,\n",
              "  'temp_max': 312.71,\n",
              "  'pressure': 1007,\n",
              "  'humidity': 25,\n",
              "  'sea_level': 1007,\n",
              "  'grnd_level': 968},\n",
              " 'visibility': 10000,\n",
              " 'wind': {'speed': 2.06, 'deg': 185, 'gust': 2.93},\n",
              " 'clouds': {'all': 84},\n",
              " 'dt': 1712406600,\n",
              " 'sys': {'country': 'TD', 'sunrise': 1712378466, 'sunset': 1712422652},\n",
              " 'timezone': 3600,\n",
              " 'id': 2427949,\n",
              " 'name': 'Melfi',\n",
              " 'cod': 200}"
            ]
          },
          "metadata": {},
          "execution_count": 15
        }
      ]
    },
    {
      "cell_type": "code",
      "source": [
        "response['wind']['speed']"
      ],
      "metadata": {
        "colab": {
          "base_uri": "https://localhost:8080/"
        },
        "id": "utBWwOkkwPGv",
        "outputId": "9d4dcc07-5dcc-477b-ecbc-e9bc13434f1a"
      },
      "execution_count": 16,
      "outputs": [
        {
          "output_type": "execute_result",
          "data": {
            "text/plain": [
              "2.06"
            ]
          },
          "metadata": {},
          "execution_count": 16
        }
      ]
    },
    {
      "cell_type": "code",
      "source": [
        "temp_kelvin = response['main']['temp']\n",
        "temp_celsius, temp_fahrenheit = kelvin_to_celsius_fahrenheit(temp_kelvin)\n",
        "feels_like_kelvin = response['main']['feels_like']\n",
        "feels_like_celsius, feels_like_fahrenheit = kelvin_to_celsius_fahrenheit(feels_like_kelvin)"
      ],
      "metadata": {
        "id": "5X6aq4gXw_2P"
      },
      "execution_count": 20,
      "outputs": []
    },
    {
      "cell_type": "code",
      "source": [
        "wind_speed = response['wind']['speed']\n",
        "humidity = response['main']['humidity']"
      ],
      "metadata": {
        "id": "8jsTi53Yd1t1"
      },
      "execution_count": 22,
      "outputs": []
    },
    {
      "cell_type": "code",
      "source": [
        "response['weather'][0]['description']\n"
      ],
      "metadata": {
        "colab": {
          "base_uri": "https://localhost:8080/",
          "height": 35
        },
        "id": "sCqelP0Fd1VR",
        "outputId": "4e642c47-7329-4a32-f8fe-df947840e0e5"
      },
      "execution_count": 28,
      "outputs": [
        {
          "output_type": "execute_result",
          "data": {
            "text/plain": [
              "'broken clouds'"
            ],
            "application/vnd.google.colaboratory.intrinsic+json": {
              "type": "string"
            }
          },
          "metadata": {},
          "execution_count": 28
        }
      ]
    },
    {
      "cell_type": "code",
      "source": [
        "description = response['weather'][0]['description']"
      ],
      "metadata": {
        "id": "8fMM2jNhgZUx"
      },
      "execution_count": 29,
      "outputs": []
    },
    {
      "cell_type": "code",
      "source": [
        "sunrise_time = dt.datetime.utcfromtimestamp(response['sys']['sunrise'] + response['timezone'])\n",
        "sunset_time = dt.datetime.utcfromtimestamp(response['sys']['sunset'] + response['timezone'])"
      ],
      "metadata": {
        "id": "RCFSyxioeLQQ"
      },
      "execution_count": 30,
      "outputs": []
    },
    {
      "cell_type": "code",
      "source": [
        "print(f\"Temperature in {CITY}: {temp_celsius:.2f}°C or {temp_fahrenheit:.2f}°F\")\n",
        "print(f\"Temperature in {CITY} feels like: {feels_like_celsius:.2f}°C or {feels_like_fahrenheit:.2f}°F\")\n",
        "print(f\"Humidity in {CITY}: {humidity}%\")\n",
        "print(f\"Wind Speed in {CITY}: {wind_speed}m/s\")\n",
        "print(f\"General Weather in {CITY}: {description}\")\n",
        "print(f\"Sun rises in {CITY} at {sunrise_time} local time.\")\n",
        "print(f\"Sun sets in {CITY} at {sunset_time} local time.\")"
      ],
      "metadata": {
        "colab": {
          "base_uri": "https://localhost:8080/"
        },
        "id": "Q2biFNj5bSwN",
        "outputId": "b438ea4c-bfc7-47cc-fefd-f4dafde29390"
      },
      "execution_count": 33,
      "outputs": [
        {
          "output_type": "stream",
          "name": "stdout",
          "text": [
            "Temperature in Lagos: 39.56°C or 103.21°F\n",
            "Temperature in Lagos feels like: 40.36°C or 104.65°F\n",
            "Humidity in Lagos: 25%\n",
            "Wind Speed in Lagos: 2.06m/s\n",
            "General Weather in Lagos: broken clouds\n",
            "Sun rises in Lagos at 2024-04-06 05:41:06 local time.\n",
            "Sun sets in Lagos at 2024-04-06 17:57:32 local time.\n"
          ]
        }
      ]
    },
    {
      "cell_type": "code",
      "source": [],
      "metadata": {
        "id": "pXJQEN3hl8qq"
      },
      "execution_count": null,
      "outputs": []
    }
  ]
}